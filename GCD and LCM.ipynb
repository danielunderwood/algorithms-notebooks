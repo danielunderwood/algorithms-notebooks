{
 "cells": [
  {
   "cell_type": "markdown",
   "metadata": {},
   "source": [
    "# Greatest Common Divisor\n",
    "\n",
    "The greatest common divisor is the greatest integer that evenly divides the numbers, or\n",
    "\n",
    "$$\n",
    "\\gcd(a, b) = \\max \\left\\{ n : \\frac{a}{n}, \\frac{b}{n} \\in \\mathbb{Z} \\right\\}\n",
    "$$"
   ]
  },
  {
   "cell_type": "markdown",
   "metadata": {},
   "source": [
    "## Naive\n",
    "\n",
    "A naive algorithm may be formed by taking the max of all integers to $\\min(a,b)$. We can shorten the typical number of iterations by going through the division backwards and returning at the first divisible result. a *really* naive algorithm would iterate forwards from $0$ to $a + b$."
   ]
  },
  {
   "cell_type": "code",
   "execution_count": 8,
   "metadata": {},
   "outputs": [
    {
     "name": "stdout",
     "output_type": "stream",
     "text": [
      "  1    4   1\n",
      "  4   10   2\n",
      "  8   25   1\n",
      "  8   32   8\n",
      "128   24   8\n",
      " 55   55  55\n"
     ]
    }
   ],
   "source": [
    "pairs = [(1, 4), (4, 10), (8, 25), (8, 32), (128, 24), (55, 55)]\n",
    "\n",
    "def gcd_naive(a, b):\n",
    "    for i in range(1, min(a, b) + 1)[::-1]:\n",
    "        if a % i == b % i == 0: return i\n",
    "        \n",
    "for a, b in pairs:\n",
    "    print(f'{a:3} {b:4} {gcd_naive(a, b):3}')"
   ]
  },
  {
   "cell_type": "markdown",
   "metadata": {},
   "source": [
    "### Complexity\n",
    "\n",
    "This algorithm has a maximum number of iterations of $\\min(a, b)$"
   ]
  },
  {
   "cell_type": "markdown",
   "metadata": {},
   "source": [
    "## Euclidean\n",
    "\n",
    "If $a'$ is the remainder when $a$ is divided by $b$, then $\\gcd(a, b) = \\gcd(a', b) = \\gcd(b, a')$. We can use this to create a better algorithm by continually \"factoring\" by the remainders."
   ]
  },
  {
   "cell_type": "code",
   "execution_count": 10,
   "metadata": {},
   "outputs": [
    {
     "name": "stdout",
     "output_type": "stream",
     "text": [
      "  1    4   1\n",
      "  4   10   2\n",
      "  8   25   1\n",
      "  8   32   8\n",
      "128   24   8\n",
      " 55   55  55\n"
     ]
    }
   ],
   "source": [
    "def gcd_euclidean(a, b):\n",
    "    if b == 0:\n",
    "        return a\n",
    "    return gcd_euclidean(b, a % b)\n",
    "\n",
    "for a, b in pairs:\n",
    "    print(f'{a:3} {b:4} {gcd_euclidean(a, b):3}')"
   ]
  },
  {
   "cell_type": "markdown",
   "metadata": {},
   "source": [
    "# Least Common Multiple\n",
    "\n",
    "The least common multiple of a pair of numbers is $\\text{lcm}(a, b) = \\min \\left( \\{ na : n \\in \\mathbb{N} \\} \\cap \\{ nb : n \\in \\mathbb{N} \\} \\right)$."
   ]
  },
  {
   "cell_type": "markdown",
   "metadata": {},
   "source": [
    "## Naive\n",
    "\n",
    "Since $ab$ is necessarily a multiple of $a$ and $b$ provided $a$ and $b$ are both integers, we can generate the multiples up to this number and take the minimum of the resulting intersection."
   ]
  },
  {
   "cell_type": "code",
   "execution_count": 20,
   "metadata": {},
   "outputs": [
    {
     "name": "stdout",
     "output_type": "stream",
     "text": [
      "  1    4   4\n",
      "  4   10  20\n",
      "  8   25 200\n",
      "  8   32  32\n",
      "128   24 384\n",
      " 55   55  55\n"
     ]
    }
   ],
   "source": [
    "def lcm_naive(a, b):\n",
    "    a_multiples = {a * n for n in range(1, a * b + 1)}\n",
    "    b_multiples = {b * n for n in range(1, a * b + 1)}\n",
    "    \n",
    "    # Note a & b is the operator form of a intersect b\n",
    "    return min(a_multiples & b_multiples)\n",
    "\n",
    "for a, b in pairs:\n",
    "    print(f'{a:3} {b:4} {lcm_naive(a, b):3}')"
   ]
  },
  {
   "cell_type": "markdown",
   "metadata": {},
   "source": [
    "### Complexity\n",
    "\n",
    "This algorithm requires $3ab$ iterations as written, though it could be reduced to $2ab$ by creating both sets at once or potentially reduced to $ab$ by looping through all possible values and returning when there is a result matching the previous."
   ]
  },
  {
   "cell_type": "markdown",
   "metadata": {},
   "source": [
    "## Using GCD\n",
    "\n",
    "The greatest common divisor algorithm may be utilized here by realizing that the $ab$ is necessarily a multiple and factoring out the greatest common divisor will result in the least possible multiple. In math, $\\text{lcm}(a, b) = \\frac{ab}{\\gcd(a,b)}$."
   ]
  },
  {
   "cell_type": "code",
   "execution_count": 21,
   "metadata": {},
   "outputs": [
    {
     "name": "stdout",
     "output_type": "stream",
     "text": [
      "  1    4   4\n",
      "  4   10  20\n",
      "  8   25 200\n",
      "  8   32  32\n",
      "128   24 384\n",
      " 55   55  55\n"
     ]
    }
   ],
   "source": [
    "def lcm_gcd(a, b):\n",
    "    return a * b / gcd_euclidean(a, b)\n",
    "\n",
    "for a, b in pairs:\n",
    "    print(f'{a:3} {b:4} {lcm_naive(a, b):3}')"
   ]
  },
  {
   "cell_type": "markdown",
   "metadata": {},
   "source": [
    "### Complexity\n",
    "\n",
    "The complexity of this method will depend on "
   ]
  },
  {
   "cell_type": "code",
   "execution_count": null,
   "metadata": {},
   "outputs": [],
   "source": []
  }
 ],
 "metadata": {
  "kernelspec": {
   "display_name": "Python 3",
   "language": "python",
   "name": "python3"
  },
  "language_info": {
   "codemirror_mode": {
    "name": "ipython",
    "version": 3
   },
   "file_extension": ".py",
   "mimetype": "text/x-python",
   "name": "python",
   "nbconvert_exporter": "python",
   "pygments_lexer": "ipython3",
   "version": "3.6.6"
  }
 },
 "nbformat": 4,
 "nbformat_minor": 2
}
