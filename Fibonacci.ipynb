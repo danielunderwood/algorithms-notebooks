{
 "cells": [
  {
   "cell_type": "markdown",
   "metadata": {},
   "source": [
    "# Fibonacci Numbers\n",
    "\n",
    "Fibonacci numbers $F_n: \\mathbb{N} \\to \\mathbb{N}$ are numbers that are the sum of the previous two numbers along with the beginning $F_0 = 0$ and $F_1 = 1$. Mathematically, they are\n",
    "\n",
    "$$\n",
    "F_n =\n",
    "\\left\\{\n",
    "\\begin{array}{ll}\n",
    "      0 & n = 0 \\\\\n",
    "      1 & n = 1 \\\\\n",
    "      F_{n - 1} + F_{n - 2} & \\rm{otherwise}\n",
    "\\end{array} \n",
    "\\right.\n",
    "$$"
   ]
  },
  {
   "cell_type": "markdown",
   "metadata": {},
   "source": [
    "## Naive\n",
    "The naive algorithm to calculate Fibonacci numbers is a simple recursive function."
   ]
  },
  {
   "cell_type": "code",
   "execution_count": 1,
   "metadata": {},
   "outputs": [],
   "source": [
    "def fib_naive(n):\n",
    "    fib_naive.calls += 1\n",
    "    if n in [0, 1]:\n",
    "        return n\n",
    "    return fib_naive(n - 1) + fib_naive(n - 2)\n",
    "fib_naive.calls = 0"
   ]
  },
  {
   "cell_type": "code",
   "execution_count": 2,
   "metadata": {},
   "outputs": [
    {
     "data": {
      "text/html": [
       "<table>\n",
       "<thead>\n",
       "<tr><th style=\"text-align: right;\">  n</th><th style=\"text-align: right;\">  $F_n$</th><th style=\"text-align: right;\">  # Calls</th></tr>\n",
       "</thead>\n",
       "<tbody>\n",
       "<tr><td style=\"text-align: right;\">  0</td><td style=\"text-align: right;\">      0</td><td style=\"text-align: right;\">        1</td></tr>\n",
       "<tr><td style=\"text-align: right;\">  1</td><td style=\"text-align: right;\">      1</td><td style=\"text-align: right;\">        1</td></tr>\n",
       "<tr><td style=\"text-align: right;\">  2</td><td style=\"text-align: right;\">      1</td><td style=\"text-align: right;\">        3</td></tr>\n",
       "<tr><td style=\"text-align: right;\">  3</td><td style=\"text-align: right;\">      2</td><td style=\"text-align: right;\">        5</td></tr>\n",
       "<tr><td style=\"text-align: right;\">  4</td><td style=\"text-align: right;\">      3</td><td style=\"text-align: right;\">        9</td></tr>\n",
       "<tr><td style=\"text-align: right;\">  5</td><td style=\"text-align: right;\">      5</td><td style=\"text-align: right;\">       15</td></tr>\n",
       "<tr><td style=\"text-align: right;\">  6</td><td style=\"text-align: right;\">      8</td><td style=\"text-align: right;\">       25</td></tr>\n",
       "<tr><td style=\"text-align: right;\">  7</td><td style=\"text-align: right;\">     13</td><td style=\"text-align: right;\">       41</td></tr>\n",
       "<tr><td style=\"text-align: right;\">  8</td><td style=\"text-align: right;\">     21</td><td style=\"text-align: right;\">       67</td></tr>\n",
       "<tr><td style=\"text-align: right;\">  9</td><td style=\"text-align: right;\">     34</td><td style=\"text-align: right;\">      109</td></tr>\n",
       "<tr><td style=\"text-align: right;\"> 10</td><td style=\"text-align: right;\">     55</td><td style=\"text-align: right;\">      177</td></tr>\n",
       "<tr><td style=\"text-align: right;\"> 11</td><td style=\"text-align: right;\">     89</td><td style=\"text-align: right;\">      287</td></tr>\n",
       "<tr><td style=\"text-align: right;\"> 12</td><td style=\"text-align: right;\">    144</td><td style=\"text-align: right;\">      465</td></tr>\n",
       "<tr><td style=\"text-align: right;\"> 13</td><td style=\"text-align: right;\">    233</td><td style=\"text-align: right;\">      753</td></tr>\n",
       "<tr><td style=\"text-align: right;\"> 14</td><td style=\"text-align: right;\">    377</td><td style=\"text-align: right;\">     1219</td></tr>\n",
       "<tr><td style=\"text-align: right;\"> 15</td><td style=\"text-align: right;\">    610</td><td style=\"text-align: right;\">     1973</td></tr>\n",
       "<tr><td style=\"text-align: right;\"> 16</td><td style=\"text-align: right;\">    987</td><td style=\"text-align: right;\">     3193</td></tr>\n",
       "<tr><td style=\"text-align: right;\"> 17</td><td style=\"text-align: right;\">   1597</td><td style=\"text-align: right;\">     5167</td></tr>\n",
       "<tr><td style=\"text-align: right;\"> 18</td><td style=\"text-align: right;\">   2584</td><td style=\"text-align: right;\">     8361</td></tr>\n",
       "<tr><td style=\"text-align: right;\"> 19</td><td style=\"text-align: right;\">   4181</td><td style=\"text-align: right;\">    13529</td></tr>\n",
       "<tr><td style=\"text-align: right;\"> 20</td><td style=\"text-align: right;\">   6765</td><td style=\"text-align: right;\">    21891</td></tr>\n",
       "</tbody>\n",
       "</table>"
      ],
      "text/plain": [
       "<IPython.core.display.HTML object>"
      ]
     },
     "execution_count": 2,
     "metadata": {},
     "output_type": "execute_result"
    }
   ],
   "source": [
    "calls = []\n",
    "for n in range(21):\n",
    "    calls.append([n, fib_naive(n), fib_naive.calls])\n",
    "    fib_naive.calls = 0\n",
    "    \n",
    "from IPython.display import HTML\n",
    "from tabulate import tabulate\n",
    "HTML(tabulate(calls, tablefmt='html', headers=['n', '$F_n$', '# Calls']))"
   ]
  },
  {
   "cell_type": "markdown",
   "metadata": {},
   "source": [
    "### Complexity\n",
    "\n",
    "Since every call recursively calls the same function twice, the complexity is approximately $O(2^n)$. Really it is $O(\\varphi^n)$ where $\\varphi = \\frac{1 + \\sqrt{5}}{2} \\approx 1.618$ is the golden ratio."
   ]
  },
  {
   "cell_type": "markdown",
   "metadata": {},
   "source": [
    "## Algebraic\n",
    "\n",
    "The fibonacci numbers may be represented algebraically by\n",
    "\n",
    "$$\n",
    "F_n = \\frac{1}{\\sqrt{5}} \\left[ \\left( \\frac{1 + \\sqrt{5}}{2} \\right)^n - \\left( \\frac{1 - \\sqrt{5}}{2} \\right)^n \\right]\n",
    "$$\n",
    "\n",
    "When implementing it, one must take care of floating point issues."
   ]
  },
  {
   "cell_type": "code",
   "execution_count": 3,
   "metadata": {},
   "outputs": [],
   "source": [
    "from math import sqrt\n",
    "def fib_algebraic(n):\n",
    "    return int((1 / (2**n * sqrt(5))) * ((1 + sqrt(5))**n - (1 - sqrt(5))**n))"
   ]
  },
  {
   "cell_type": "code",
   "execution_count": 4,
   "metadata": {},
   "outputs": [
    {
     "data": {
      "text/html": [
       "<table>\n",
       "<thead>\n",
       "<tr><th style=\"text-align: right;\">  n</th><th style=\"text-align: right;\">  $F_n$</th></tr>\n",
       "</thead>\n",
       "<tbody>\n",
       "<tr><td style=\"text-align: right;\">  0</td><td style=\"text-align: right;\">      0</td></tr>\n",
       "<tr><td style=\"text-align: right;\">  1</td><td style=\"text-align: right;\">      1</td></tr>\n",
       "<tr><td style=\"text-align: right;\">  2</td><td style=\"text-align: right;\">      1</td></tr>\n",
       "<tr><td style=\"text-align: right;\">  3</td><td style=\"text-align: right;\">      2</td></tr>\n",
       "<tr><td style=\"text-align: right;\">  4</td><td style=\"text-align: right;\">      3</td></tr>\n",
       "<tr><td style=\"text-align: right;\">  5</td><td style=\"text-align: right;\">      5</td></tr>\n",
       "<tr><td style=\"text-align: right;\">  6</td><td style=\"text-align: right;\">      8</td></tr>\n",
       "<tr><td style=\"text-align: right;\">  7</td><td style=\"text-align: right;\">     13</td></tr>\n",
       "<tr><td style=\"text-align: right;\">  8</td><td style=\"text-align: right;\">     21</td></tr>\n",
       "<tr><td style=\"text-align: right;\">  9</td><td style=\"text-align: right;\">     34</td></tr>\n",
       "<tr><td style=\"text-align: right;\"> 10</td><td style=\"text-align: right;\">     55</td></tr>\n",
       "<tr><td style=\"text-align: right;\"> 11</td><td style=\"text-align: right;\">     89</td></tr>\n",
       "<tr><td style=\"text-align: right;\"> 12</td><td style=\"text-align: right;\">    144</td></tr>\n",
       "<tr><td style=\"text-align: right;\"> 13</td><td style=\"text-align: right;\">    233</td></tr>\n",
       "<tr><td style=\"text-align: right;\"> 14</td><td style=\"text-align: right;\">    377</td></tr>\n",
       "<tr><td style=\"text-align: right;\"> 15</td><td style=\"text-align: right;\">    610</td></tr>\n",
       "<tr><td style=\"text-align: right;\"> 16</td><td style=\"text-align: right;\">    987</td></tr>\n",
       "<tr><td style=\"text-align: right;\"> 17</td><td style=\"text-align: right;\">   1597</td></tr>\n",
       "<tr><td style=\"text-align: right;\"> 18</td><td style=\"text-align: right;\">   2584</td></tr>\n",
       "<tr><td style=\"text-align: right;\"> 19</td><td style=\"text-align: right;\">   4181</td></tr>\n",
       "<tr><td style=\"text-align: right;\"> 20</td><td style=\"text-align: right;\">   6765</td></tr>\n",
       "</tbody>\n",
       "</table>"
      ],
      "text/plain": [
       "<IPython.core.display.HTML object>"
      ]
     },
     "execution_count": 4,
     "metadata": {},
     "output_type": "execute_result"
    }
   ],
   "source": [
    "# Check to make sure some results are correct\n",
    "results = [[n, fib_algebraic(n)] for n in range(21)]\n",
    "HTML(tabulate(results, tablefmt='html', headers=['n', '$F_n$']))"
   ]
  },
  {
   "cell_type": "markdown",
   "metadata": {},
   "source": [
    "### Complexity\n",
    "\n",
    "The complexity of this operation comes from the exponentiation. Since exponentiation is $O(n)$, this method is $O(2n)$."
   ]
  },
  {
   "cell_type": "markdown",
   "metadata": {},
   "source": [
    "## Loops and arrays\n",
    "\n",
    "We can build on the recursive method by saving the call from each Fibonacci calculation rather than it being computed."
   ]
  },
  {
   "cell_type": "code",
   "execution_count": 5,
   "metadata": {},
   "outputs": [],
   "source": [
    "def fib_array(n):\n",
    "    arr = [0] * n\n",
    "    arr[0] = 0\n",
    "    arr[1] = 1\n",
    "    for x in range(2, n + 1):\n",
    "        arr[x] = arr[x - 1] + arr[x - 2]"
   ]
  },
  {
   "cell_type": "code",
   "execution_count": 6,
   "metadata": {},
   "outputs": [
    {
     "data": {
      "text/html": [
       "<table>\n",
       "<thead>\n",
       "<tr><th style=\"text-align: right;\">  n</th><th style=\"text-align: right;\">  $F_n$</th></tr>\n",
       "</thead>\n",
       "<tbody>\n",
       "<tr><td style=\"text-align: right;\">  0</td><td style=\"text-align: right;\">      0</td></tr>\n",
       "<tr><td style=\"text-align: right;\">  1</td><td style=\"text-align: right;\">      1</td></tr>\n",
       "<tr><td style=\"text-align: right;\">  2</td><td style=\"text-align: right;\">      1</td></tr>\n",
       "<tr><td style=\"text-align: right;\">  3</td><td style=\"text-align: right;\">      2</td></tr>\n",
       "<tr><td style=\"text-align: right;\">  4</td><td style=\"text-align: right;\">      3</td></tr>\n",
       "<tr><td style=\"text-align: right;\">  5</td><td style=\"text-align: right;\">      5</td></tr>\n",
       "</tbody>\n",
       "</table>"
      ],
      "text/plain": [
       "<IPython.core.display.HTML object>"
      ]
     },
     "execution_count": 6,
     "metadata": {},
     "output_type": "execute_result"
    }
   ],
   "source": [
    "# Check to make sure it works\n",
    "results = [[n, fib_algebraic(n)] for n in range(6)]\n",
    "HTML(tabulate(results, tablefmt='html', headers=['n', '$F_n$']))"
   ]
  },
  {
   "cell_type": "markdown",
   "metadata": {},
   "source": [
    "### Complexity\n",
    "This algorithm will have $n - 2$ additions, so it is $O(n)$ (plus allocation and assignment of the array)."
   ]
  }
 ],
 "metadata": {
  "kernelspec": {
   "display_name": "Python 3",
   "language": "python",
   "name": "python3"
  },
  "language_info": {
   "codemirror_mode": {
    "name": "ipython",
    "version": 3
   },
   "file_extension": ".py",
   "mimetype": "text/x-python",
   "name": "python",
   "nbconvert_exporter": "python",
   "pygments_lexer": "ipython3",
   "version": "3.6.6"
  }
 },
 "nbformat": 4,
 "nbformat_minor": 2
}
